{
  "nbformat": 4,
  "nbformat_minor": 0,
  "metadata": {
    "colab": {
      "provenance": [],
      "authorship_tag": "ABX9TyMotHt3MlUd9kxH/OgIxWph",
      "include_colab_link": true
    },
    "kernelspec": {
      "name": "python3",
      "display_name": "Python 3"
    },
    "language_info": {
      "name": "python"
    }
  },
  "cells": [
    {
      "cell_type": "markdown",
      "metadata": {
        "id": "view-in-github",
        "colab_type": "text"
      },
      "source": [
        "<a href=\"https://colab.research.google.com/github/shirish-baral/ai-lab/blob/main/lab4.ipynb\" target=\"_parent\"><img src=\"https://colab.research.google.com/assets/colab-badge.svg\" alt=\"Open In Colab\"/></a>"
      ]
    },
    {
      "cell_type": "markdown",
      "source": [
        "Assignment 4: Uniform Cost Search for Optimal Path\n",
        "\n",
        "Objective: Implement Uniform Cost Search for a weighted graph.\n",
        "\n",
        "Problem Statement: Given a weighted graph (e.g., a transportation network with travel costs), find the minimum-cost path between two nodes.\n",
        "\n",
        "Tasks:\n",
        "Represent the graph as an adjacency list.\n",
        "Implement Uniform Cost Search to find the optimal path.\n",
        "Compare it with BFS for unweighted graphs."
      ],
      "metadata": {
        "id": "ZfOrhPhwfKhI"
      }
    },
    {
      "cell_type": "code",
      "execution_count": 3,
      "metadata": {
        "colab": {
          "base_uri": "https://localhost:8080/"
        },
        "id": "xTxOp9Z0fE1w",
        "outputId": "e848f880-661b-4704-afe9-bc589f079a83"
      },
      "outputs": [
        {
          "output_type": "stream",
          "name": "stdout",
          "text": [
            "UCS Path: ['A', 'B', 'C', 'D'], Cost: 4\n",
            "BFS Path: ['A', 'B', 'D']\n"
          ]
        }
      ],
      "source": [
        "import heapq\n",
        "from collections import deque\n",
        "\n",
        "# Uniform Cost Search (UCS)\n",
        "def uniform_cost_search(graph, start, goal):\n",
        "    queue = [(0, start)]\n",
        "    costs = {start: 0}\n",
        "    parent = {start: None}\n",
        "\n",
        "    while queue:\n",
        "        current_cost, current_node = heapq.heappop(queue)\n",
        "        if current_node == goal:\n",
        "            path = []\n",
        "            while current_node: path.append(current_node); current_node = parent[current_node]\n",
        "            return path[::-1], current_cost\n",
        "\n",
        "        for neighbor, weight in graph[current_node]:\n",
        "            new_cost = current_cost + weight\n",
        "            if neighbor not in costs or new_cost < costs[neighbor]:\n",
        "                costs[neighbor], parent[neighbor] = new_cost, current_node\n",
        "                heapq.heappush(queue, (new_cost, neighbor))\n",
        "\n",
        "    return None, float('inf')\n",
        "\n",
        "# Breadth-First Search (BFS)\n",
        "def bfs(graph, start, goal):\n",
        "    queue, parent = deque([start]), {start: None}\n",
        "    while queue:\n",
        "        current_node = queue.popleft()\n",
        "        if current_node == goal:\n",
        "            path = []\n",
        "            while current_node: path.append(current_node); current_node = parent[current_node]\n",
        "            return path[::-1]\n",
        "        for neighbor, _ in graph[current_node]:\n",
        "            if neighbor not in parent:\n",
        "                parent[neighbor] = current_node\n",
        "                queue.append(neighbor)\n",
        "    return None\n",
        "\n",
        "# Example graph\n",
        "graph = {\n",
        "    'A': [('B', 1), ('C', 4)],\n",
        "    'B': [('A', 1), ('C', 2), ('D', 5)],\n",
        "    'C': [('A', 4), ('B', 2), ('D', 1)],\n",
        "    'D': [('B', 5), ('C', 1)]\n",
        "}\n",
        "\n",
        "# Test UCS and BFS\n",
        "ucs_path, ucs_cost = uniform_cost_search(graph, 'A', 'D')\n",
        "bfs_path = bfs(graph, 'A', 'D')\n",
        "\n",
        "print(f\"UCS Path: {ucs_path}, Cost: {ucs_cost}\")\n",
        "print(f\"BFS Path: {bfs_path}\")\n"
      ]
    },
    {
      "cell_type": "markdown",
      "source": [],
      "metadata": {
        "id": "A1UvgfgmfJe-"
      }
    }
  ]
}