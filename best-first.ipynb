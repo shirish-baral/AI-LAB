{
  "nbformat": 4,
  "nbformat_minor": 0,
  "metadata": {
    "colab": {
      "provenance": [],
      "authorship_tag": "ABX9TyOWyChOxpe8C+19O9GPXVGF",
      "include_colab_link": true
    },
    "kernelspec": {
      "name": "python3",
      "display_name": "Python 3"
    },
    "language_info": {
      "name": "python"
    }
  },
  "cells": [
    {
      "cell_type": "markdown",
      "metadata": {
        "id": "view-in-github",
        "colab_type": "text"
      },
      "source": [
        "<a href=\"https://colab.research.google.com/github/shirish-baral/ai-lab/blob/main/best-first.ipynb\" target=\"_parent\"><img src=\"https://colab.research.google.com/assets/colab-badge.svg\" alt=\"Open In Colab\"/></a>"
      ]
    },
    {
      "cell_type": "markdown",
      "source": [
        "**Assignment 3: Search for Treasure using the Best-First Search**\n",
        "\n",
        "Objective: Use Best-First Search to find a treasure in a grid.\n",
        "\n",
        "Problem Statement: The treasure is hidden in a grid, and each cell has a heuristic value representing its \"closeness\" to the treasure. Implement Best-First Search to locate the treasure.\n",
        "\n",
        "**Tasks:**\n",
        "\n",
        "-Use Manhattan distance as a heuristic.\n",
        "\n",
        "-Implement the algorithm to always move to the most promising cell first (minimum heuristic value).\n",
        "\n",
        "-Analyze how heuristic choice affects performance."
      ],
      "metadata": {
        "id": "Nrmg8vuGhpDs"
      }
    },
    {
      "cell_type": "code",
      "execution_count": 10,
      "metadata": {
        "colab": {
          "base_uri": "https://localhost:8080/"
        },
        "id": "Npi7MEKlcLsi",
        "outputId": "9d05a20f-3b1d-429d-afb3-b22e9b36e264"
      },
      "outputs": [
        {
          "output_type": "stream",
          "name": "stdout",
          "text": [
            "Enter the number of rows: 3\n",
            "Enter the number of columns: 3\n",
            "Enter the grid (1 for paths, 0 for obstacles):\n",
            "1 1 0\n",
            "0 1 1\n",
            "0 0 1\n",
            "Enter the starting position (row column): 0 0\n",
            "Enter the treasure position (row column): 2 2\n",
            "Path to treasure: [(0, 0), (0, 1), (1, 1), (1, 2), (2, 2)]\n"
          ]
        }
      ],
      "source": [
        "import heapq\n",
        "\n",
        "def manhattan_distance(x1, y1, x2, y2):\n",
        "    return abs(x1 - x2) + abs(y1 - y2)\n",
        "\n",
        "def best_first_search(grid, start, treasure):\n",
        "    rows, cols = len(grid), len(grid[0])\n",
        "    visited = set()\n",
        "    pq = []\n",
        "\n",
        "    heapq.heappush(pq, (manhattan_distance(*start, *treasure), start))\n",
        "    parent = {start: None}\n",
        "\n",
        "    while pq:\n",
        "        _, current = heapq.heappop(pq)\n",
        "        x, y = current\n",
        "\n",
        "        if current == treasure:\n",
        "            path = []\n",
        "            while current:\n",
        "                path.append(current)\n",
        "                current = parent[current]\n",
        "            return path[::-1]\n",
        "\n",
        "        if current in visited:\n",
        "            continue\n",
        "        visited.add(current)\n",
        "\n",
        "        for dx, dy in [(-1, 0), (1, 0), (0, -1), (0, 1)]:\n",
        "            nx, ny = x + dx, y + dy\n",
        "\n",
        "            if (\n",
        "                0 <= nx < rows and\n",
        "                0 <= ny < cols and\n",
        "                (nx, ny) not in visited and\n",
        "                grid[nx][ny] == 1\n",
        "            ):\n",
        "                neighbor = (nx, ny)\n",
        "                heuristic = manhattan_distance(nx, ny, *treasure)\n",
        "                heapq.heappush(pq, (heuristic, neighbor))\n",
        "                if neighbor not in parent:\n",
        "                    parent[neighbor] = current\n",
        "\n",
        "    return []\n",
        "\n",
        "# Input handling\n",
        "rows = int(input(\"Enter the number of rows: \"))\n",
        "cols = int(input(\"Enter the number of columns: \"))\n",
        "print(\"Enter the grid (1 for paths, 0 for obstacles):\")\n",
        "grid = []\n",
        "for _ in range(rows):\n",
        "    grid.append(list(map(int, input().split())))\n",
        "\n",
        "start_x, start_y = map(int, input(\"Enter the starting position (row column): \").split())\n",
        "treasure_x, treasure_y = map(int, input(\"Enter the treasure position (row column): \").split())\n",
        "\n",
        "# Validating input positions\n",
        "if not (0 <= start_x < rows and 0 <= start_y < cols):\n",
        "    print(\"Invalid starting position: Out of grid bounds.\")\n",
        "elif not (0 <= treasure_x < rows and 0 <= treasure_y < cols):\n",
        "    print(\"Invalid treasure position: Out of grid bounds.\")\n",
        "elif grid[start_x][start_y] != 1:\n",
        "    print(\"Invalid starting position: Cannot start on an obstacle.\")\n",
        "elif grid[treasure_x][treasure_y] != 1:\n",
        "    print(\"Invalid treasure position: Cannot place treasure on an obstacle.\")\n",
        "else:\n",
        "    start = (start_x, start_y)\n",
        "    treasure = (treasure_x, treasure_y)\n",
        "    path = best_first_search(grid, start, treasure)\n",
        "    if path:\n",
        "        print(\"Path to treasure:\", path)\n",
        "    else:\n",
        "        print(\"No path to the treasure was found.\")"
      ]
    },
    {
      "cell_type": "code",
      "source": [
        "3"
      ],
      "metadata": {
        "id": "75BgKhpvfC16"
      },
      "execution_count": null,
      "outputs": []
    }
  ]
}