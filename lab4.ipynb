{
  "nbformat": 4,
  "nbformat_minor": 0,
  "metadata": {
    "colab": {
      "provenance": [],
      "authorship_tag": "ABX9TyOT63J8aTrMOccI8UGqfQ7w",
      "include_colab_link": true
    },
    "kernelspec": {
      "name": "python3",
      "display_name": "Python 3"
    },
    "language_info": {
      "name": "python"
    }
  },
  "cells": [
    {
      "cell_type": "markdown",
      "metadata": {
        "id": "view-in-github",
        "colab_type": "text"
      },
      "source": [
        "<a href=\"https://colab.research.google.com/github/shirish-baral/ai-lab/blob/main/lab4.ipynb\" target=\"_parent\"><img src=\"https://colab.research.google.com/assets/colab-badge.svg\" alt=\"Open In Colab\"/></a>"
      ]
    },
    {
      "cell_type": "markdown",
      "source": [
        "Assignment 4: Uniform Cost Search for Optimal Path\n",
        "\n",
        "Objective: Implement Uniform Cost Search for a weighted graph.\n",
        "\n",
        "Problem Statement: Given a weighted graph (e.g., a transportation network with travel costs), find the minimum-cost path between two nodes.\n",
        "\n",
        "Tasks:\n",
        "Represent the graph as an adjacency list.\n",
        "Implement Uniform Cost Search to find the optimal path.\n",
        "Compare it with BFS for unweighted graphs."
      ],
      "metadata": {
        "id": "ZfOrhPhwfKhI"
      }
    },
    {
      "cell_type": "code",
      "execution_count": null,
      "metadata": {
        "id": "xTxOp9Z0fE1w"
      },
      "outputs": [],
      "source": [
        "import networkx as nx\n",
        "import matplotlib.pyplot as plt\n",
        "\n",
        "def visualize_weighted_graph(graph, path=None):\n",
        "    G = nx.Graph()\n",
        "    for node, edges in graph.items():\n",
        "        for neighbor, weight in edges:\n",
        "            G.add_edge(node, neighbor, weight=weight)\n",
        "\n",
        "    pos = nx.spring_layout(G)\n",
        "    nx.draw(G, pos, with_labels=True, node_color='lightblue', node_size=500)\n",
        "    labels = nx.get_edge_attributes(G, 'weight')\n",
        "    nx.draw_networkx_edge_labels(G, pos, edge_labels=labels)\n",
        "\n",
        "    if path:\n",
        "        edges = [(path[i], path[i+1]) for i in range(len(path)-1)]\n",
        "        nx.draw_networkx_edges(G, pos, edgelist=edges, edge_color='red', width=2)\n",
        "\n",
        "    plt.show()\n",
        "\n",
        "# Visualize graph with UCS path\n",
        "visualize_weighted_graph(graph, path)\n"
      ]
    },
    {
      "cell_type": "markdown",
      "source": [],
      "metadata": {
        "id": "A1UvgfgmfJe-"
      }
    }
  ]
}