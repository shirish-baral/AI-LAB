{
  "nbformat": 4,
  "nbformat_minor": 0,
  "metadata": {
    "colab": {
      "provenance": [],
      "authorship_tag": "ABX9TyPtsvLRFmrqNSsWP8uMnm4M",
      "include_colab_link": true
    },
    "kernelspec": {
      "name": "python3",
      "display_name": "Python 3"
    },
    "language_info": {
      "name": "python"
    }
  },
  "cells": [
    {
      "cell_type": "markdown",
      "metadata": {
        "id": "view-in-github",
        "colab_type": "text"
      },
      "source": [
        "<a href=\"https://colab.research.google.com/github/shirish-baral/AI-LAB/blob/main/lab2.ipynb\" target=\"_parent\"><img src=\"https://colab.research.google.com/assets/colab-badge.svg\" alt=\"Open In Colab\"/></a>"
      ]
    },
    {
      "cell_type": "markdown",
      "source": [
        "Objective: Implement BFS and DFS to solve a maze.\n",
        "Problem Statement: Given a grid-based maze where 0 represents walls and 1\n",
        "represents walkable paths, find the shortest path from a start cell to an end cell.\n",
        "Tasks:\n",
        " Use BFS to find the shortest path.\n",
        " Use DFS to explore all possible paths and report one valid path (not necessarily\n",
        "the shortest).\n",
        " Compare the number of nodes explored by BFS and DFS."
      ],
      "metadata": {
        "id": "FFPOOmR8dT6p"
      }
    },
    {
      "cell_type": "code",
      "source": [
        "# Using BFS to find the shortest path"
      ],
      "metadata": {
        "id": "XBGioReBdgXx"
      },
      "execution_count": 1,
      "outputs": []
    },
    {
      "cell_type": "code",
      "execution_count": null,
      "metadata": {
        "colab": {
          "base_uri": "https://localhost:8080/"
        },
        "id": "BPDBPv7IMc_l",
        "outputId": "97b7cee2-4db9-42a0-eccb-f13c859376fc"
      },
      "outputs": [
        {
          "output_type": "stream",
          "name": "stdout",
          "text": [
            "Enter the number of rows and columns in the maze:\n",
            "Number of rows: 3\n",
            "Number of columns: 3\n",
            "Enter maze values:\n",
            "Enter value for cell (0, 0): 1\n",
            "Enter value for cell (0, 1): 1\n",
            "Enter value for cell (0, 2): 0\n",
            "Enter value for cell (1, 0): 0\n",
            "Enter value for cell (1, 1): 1\n",
            "Enter value for cell (1, 2): 1\n",
            "Enter value for cell (2, 0): 0\n",
            "Enter value for cell (2, 1): 0\n",
            "Enter value for cell (2, 2): 1\n",
            "Enter the start position (row and column, 0-indexed):\n",
            "Start row: 0\n",
            "Start column: 0\n",
            "Enter the end position (row and column, 0-indexed):\n",
            "End row: 2\n",
            "End column: 2\n",
            "The shortest path from (0, 0) to (2, 2) is 4 steps.\n"
          ]
        }
      ],
      "source": [
        "def get_maze_input():\n",
        "    print(\"Enter the number of rows and columns in the maze:\")\n",
        "    rows = int(input(\"Number of rows: \"))\n",
        "    cols = int(input(\"Number of columns: \"))\n",
        "    print(\"Enter maze values:\")\n",
        "    maze = []\n",
        "    for i in range(rows):\n",
        "        row = []\n",
        "        for j in range(cols):\n",
        "            value = int(input(f\"Enter value for cell ({i}, {j}): \"))\n",
        "            row.append(value)\n",
        "        maze.append(row)\n",
        "    return maze\n",
        "\n",
        "def bfs_maze_solver(maze, start, end):\n",
        "    rows, cols = len(maze), len(maze[0])\n",
        "    directions = [(-1, 0), (1, 0), (0, -1), (0, 1)]\n",
        "    queue = deque([(start[0], start[1], 0)])\n",
        "    visited = set()\n",
        "    visited.add((start[0], start[1]))\n",
        "\n",
        "    while queue:\n",
        "        x, y, dist = queue.popleft()\n",
        "\n",
        "        if (x, y) == end:\n",
        "            return dist\n",
        "\n",
        "        for dx, dy in directions:\n",
        "            nx, ny = x + dx, y + dy\n",
        "\n",
        "            if 0 <= nx < rows and 0 <= ny < cols and maze[nx][ny] == 1 and (nx, ny) not in visited:\n",
        "                queue.append((nx, ny, dist + 1))\n",
        "                visited.add((nx, ny))\n",
        "\n",
        "    return -1\n",
        "\n",
        "if __name__ == \"__main__\":\n",
        "    maze = get_maze_input()\n",
        "    print(\"Enter the start position (row and column, 0-indexed):\")\n",
        "    start_row = int(input(\"Start row: \"))\n",
        "    start_col = int(input(\"Start column: \"))\n",
        "    start = (start_row, start_col)\n",
        "\n",
        "    print(\"Enter the end position (row and column, 0-indexed):\")\n",
        "    end_row = int(input(\"End row: \"))\n",
        "    end_col = int(input(\"End column: \"))\n",
        "    end = (end_row, end_col)\n",
        "\n",
        "    shortest_path = bfs_maze_solver(maze, start, end)\n",
        "\n",
        "    if shortest_path != -1:\n",
        "        print(f\"The shortest path from {start} to {end} is {shortest_path} steps.\")\n",
        "    else:\n",
        "        print(\"No path exists between the start and end points.\")\n"
      ]
    },
    {
      "cell_type": "code",
      "source": [
        "# Using DFS to find the shortest path"
      ],
      "metadata": {
        "id": "s0HiRo1HdkdN"
      },
      "execution_count": 2,
      "outputs": []
    },
    {
      "cell_type": "code",
      "source": [
        "def get_maze_input():\n",
        "    print(\"Enter the number of rows and columns in the maze:\")\n",
        "    rows = int(input(\"Number of rows: \"))\n",
        "    cols = int(input(\"Number of columns: \"))\n",
        "    print(\"Enter maze values:\")\n",
        "    maze = []\n",
        "    for i in range(rows):\n",
        "        row = []\n",
        "        for j in range(cols):\n",
        "            value = int(input(f\"Enter value for cell ({i}, {j}): \"))\n",
        "            row.append(value)\n",
        "        maze.append(row)\n",
        "    return maze\n",
        "\n",
        "def dfs_maze_solver(maze, start, end):\n",
        "    rows, cols = len(maze), len(maze[0])\n",
        "    directions = [(-1, 0), (1, 0), (0, -1), (0, 1)]\n",
        "    stack = [(start[0], start[1], 0, [start])]\n",
        "    visited = set()\n",
        "    visited.add((start[0], start[1]))\n",
        "\n",
        "    while stack:\n",
        "        x, y, dist, path = stack.pop()\n",
        "\n",
        "        if (x, y) == end:\n",
        "            return dist, path\n",
        "\n",
        "        for dx, dy in directions:\n",
        "            nx, ny = x + dx, y + dy\n",
        "\n",
        "            if 0 <= nx < rows and 0 <= ny < cols and maze[nx][ny] == 1 and (nx, ny) not in visited:\n",
        "                stack.append((nx, ny, dist + 1, path + [(nx, ny)]))\n",
        "                visited.add((nx, ny))\n",
        "\n",
        "    return -1, []\n",
        "\n",
        "if __name__ == \"__main__\":\n",
        "    maze = get_maze_input()\n",
        "    print(\"Enter the start position (row and column, 0-indexed):\")\n",
        "    start_row = int(input(\"Start row: \"))\n",
        "    start_col = int(input(\"Start column: \"))\n",
        "    start = (start_row, start_col)\n",
        "\n",
        "    print(\"Enter the end position (row and column, 0-indexed):\")\n",
        "    end_row = int(input(\"End row: \"))\n",
        "    end_col = int(input(\"End column: \"))\n",
        "    end = (end_row, end_col)\n",
        "\n",
        "    shortest_path, path = dfs_maze_solver(maze, start, end)\n",
        "\n",
        "    if shortest_path != -1:\n",
        "        print(f\"The shortest path from {start} to {end} is {shortest_path} steps.\")\n",
        "        print(f\"Path: {path}\")\n",
        "    else:\n",
        "        print(\"No path exists between the start and end points.\")\n"
      ],
      "metadata": {
        "colab": {
          "base_uri": "https://localhost:8080/"
        },
        "id": "D77W9hcrSQks",
        "outputId": "3300cf6a-683e-4dd6-c835-a6f12149d02c"
      },
      "execution_count": null,
      "outputs": [
        {
          "output_type": "stream",
          "name": "stdout",
          "text": [
            "Enter the number of rows and columns in the maze:\n",
            "Number of rows: 3\n",
            "Number of columns: 3\n",
            "Enter maze values:\n",
            "Enter value for cell (0, 0): 1\n",
            "Enter value for cell (0, 1): 1\n",
            "Enter value for cell (0, 2): 0\n",
            "Enter value for cell (1, 0): 0\n",
            "Enter value for cell (1, 1): 1\n",
            "Enter value for cell (1, 2): 1\n",
            "Enter value for cell (2, 0): 0\n",
            "Enter value for cell (2, 1): 0\n",
            "Enter value for cell (2, 2): 1\n",
            "Enter the start position (row and column, 0-indexed):\n",
            "Start row: 0\n",
            "Start column: 0\n",
            "Enter the end position (row and column, 0-indexed):\n",
            "End row: 2\n",
            "End column: 2\n",
            "The shortest path from (0, 0) to (2, 2) is 4 steps.\n",
            "Path: [(0, 0), (0, 1), (1, 1), (1, 2), (2, 2)]\n"
          ]
        }
      ]
    }
  ]
}