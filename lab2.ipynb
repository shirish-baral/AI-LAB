{
  "nbformat": 4,
  "nbformat_minor": 0,
  "metadata": {
    "colab": {
      "provenance": [],
      "authorship_tag": "ABX9TyNKN991SQeQ7jLb37LMf7hs",
      "include_colab_link": true
    },
    "kernelspec": {
      "name": "python3",
      "display_name": "Python 3"
    },
    "language_info": {
      "name": "python"
    }
  },
  "cells": [
    {
      "cell_type": "markdown",
      "metadata": {
        "id": "view-in-github",
        "colab_type": "text"
      },
      "source": [
        "<a href=\"https://colab.research.google.com/github/shirish-baral/ai-lab/blob/main/lab2.ipynb\" target=\"_parent\"><img src=\"https://colab.research.google.com/assets/colab-badge.svg\" alt=\"Open In Colab\"/></a>"
      ]
    },
    {
      "cell_type": "markdown",
      "source": [
        "# **Lab Assignment 2:**\n",
        "Route Finder Using Bi-Directional BFS/DFS\n",
        "Objective: Use Bi-directional BFS/DFS to solve a navigation problem.\n",
        "Problem Statement: Represent a city map as a graph where intersections are nodes and roads are edges. Find the shortest path between two locations.\n",
        "\n",
        "Tasks:\n",
        "  Implement Bi-directional BFS to minimize the number of nodes explored.\n",
        "- Compare the performance of Bi-directional BFS with standard BFS and DFS.\n",
        "- Visualize the search process (e.g., using a library like networkx in Python).\n",
        "\n",
        "\n",
        "---\n",
        "\n"
      ],
      "metadata": {
        "id": "L13JE0eCVMKE"
      }
    },
    {
      "cell_type": "code",
      "source": [
        "import networkx as nx\n",
        "import matplotlib.pyplot as plt\n",
        "from collections import deque\n",
        "\n",
        "def bidirectional_bfs(graph, start, goal):\n",
        "    if start == goal:\n",
        "        return [start]\n",
        "\n",
        "    # Initialize the frontiers\n",
        "    frontier_start = {start}\n",
        "    frontier_goal = {goal}\n",
        "\n",
        "    # Parent tracking\n",
        "    parents_start = {start: None}\n",
        "    parents_goal = {goal: None}\n",
        "\n",
        "    while frontier_start and frontier_goal:\n",
        "        # Expand the start frontier\n",
        "        next_frontier = set()\n",
        "        for node in frontier_start:\n",
        "            for neighbor in graph[node]:\n",
        "                if neighbor not in parents_start:\n",
        "                    parents_start[neighbor] = node\n",
        "                    next_frontier.add(neighbor)\n",
        "\n",
        "                    if neighbor in frontier_goal:\n",
        "                        return reconstruct_path(parents_start, parents_goal, neighbor)\n",
        "        frontier_start = next_frontier\n",
        "\n",
        "        # Expand the goal frontier\n",
        "        next_frontier = set()\n",
        "        for node in frontier_goal:\n",
        "            for neighbor in graph[node]:\n",
        "                if neighbor not in parents_goal:\n",
        "                    parents_goal[neighbor] = node\n",
        "                    next_frontier.add(neighbor)\n",
        "\n",
        "                    if neighbor in frontier_start:\n",
        "                        return reconstruct_path(parents_start, parents_goal, neighbor)\n",
        "        frontier_goal = next_frontier\n",
        "\n",
        "    return None\n",
        "\n",
        "def reconstruct_path(parents_start, parents_goal, meeting_point):\n",
        "    path_start = []\n",
        "    path_goal = []\n",
        "\n",
        "    # Build the path from start to meeting_point\n",
        "    node = meeting_point\n",
        "    while node is not None:\n",
        "        path_start.append(node)\n",
        "        node = parents_start[node]\n",
        "\n",
        "    # Build the path from goal to meeting_point\n",
        "    node = meeting_point\n",
        "    while node is not None:\n",
        "        path_goal.append(node)\n",
        "        node = parents_goal[node]\n",
        "\n",
        "    return path_start[::-1] + path_goal[1:]\n",
        "\n",
        "def bfs(graph, start, goal):\n",
        "    queue = deque([start])\n",
        "    parents = {start: None}\n",
        "\n",
        "    while queue:\n",
        "        node = queue.popleft()\n",
        "\n",
        "        if node == goal:\n",
        "            path = []\n",
        "            while node is not None:\n",
        "                path.append(node)\n",
        "                node = parents[node]\n",
        "            return path[::-1]\n",
        "\n",
        "        for neighbor in graph[node]:\n",
        "            if neighbor not in parents:\n",
        "                parents[neighbor] = node\n",
        "                queue.append(neighbor)\n",
        "\n",
        "    return None\n",
        "\n",
        "def dfs(graph, start, goal):\n",
        "    stack = [start]\n",
        "    parents = {start: None}\n",
        "\n",
        "    while stack:\n",
        "        node = stack.pop()\n",
        "\n",
        "        if node == goal:\n",
        "            path = []\n",
        "            while node is not None:\n",
        "                path.append(node)\n",
        "                node = parents[node]\n",
        "            return path[::-1]\n",
        "\n",
        "        for neighbor in graph[node]:\n",
        "            if neighbor not in parents:\n",
        "                parents[neighbor] = node\n",
        "                stack.append(neighbor)\n",
        "\n",
        "    return None\n",
        "\n",
        "def visualize_graph(graph, path=None):\n",
        "    pos = nx.spring_layout(graph)\n",
        "    nx.draw(graph, pos, with_labels=True, node_color='lightblue', node_size=500, edge_color='gray')\n",
        "\n",
        "    if path:\n",
        "        edges = [(path[i], path[i+1]) for i in range(len(path)-1)]\n",
        "        nx.draw_networkx_edges(graph, pos, edgelist=edges, edge_color='red', width=2)\n",
        "\n",
        "    plt.show()\n",
        "\n",
        "if __name__ == \"__main__\":\n",
        "    # Define the graph\n",
        "    city_map = nx.Graph()\n",
        "    edges = [\n",
        "        (\"A\", \"B\"), (\"A\", \"C\"), (\"B\", \"D\"), (\"C\", \"D\"),\n",
        "        (\"C\", \"E\"), (\"D\", \"F\"), (\"E\", \"F\"), (\"E\", \"G\"), (\"F\", \"H\")\n",
        "    ]\n",
        "    city_map.add_edges_from(edges)\n",
        "\n",
        "    graph = nx.to_dict_of_lists(city_map)\n",
        "\n",
        "    # Start and goal nodes\n",
        "    start, goal = \"A\", \"H\"\n",
        "\n",
        "    # Perform searches\n",
        "    path_bidirectional = bidirectional_bfs(graph, start, goal)\n",
        "    path_bfs = bfs(graph, start, goal)\n",
        "    path_dfs = dfs(graph, start, goal)\n",
        "\n",
        "    # Print and visualize results\n",
        "    print(\"Bi-directional BFS Path:\", path_bidirectional)\n",
        "    print(\"Standard BFS Path:\", path_bfs)\n",
        "    print(\"DFS Path:\", path_dfs)\n",
        "\n",
        "    visualize_graph(city_map, path_bidirectional)\n"
      ],
      "metadata": {
        "colab": {
          "base_uri": "https://localhost:8080/",
          "height": 568
        },
        "id": "pyNQTvSwVhSe",
        "outputId": "6fecfff7-50cd-4fd5-845f-b15fe2c159a0"
      },
      "execution_count": 1,
      "outputs": [
        {
          "output_type": "stream",
          "name": "stdout",
          "text": [
            "Bi-directional BFS Path: ['A', 'C', 'D', 'F', 'H']\n",
            "Standard BFS Path: ['A', 'B', 'D', 'F', 'H']\n",
            "DFS Path: ['A', 'C', 'E', 'F', 'H']\n"
          ]
        },
        {
          "output_type": "display_data",
          "data": {
            "text/plain": [
              "<Figure size 640x480 with 1 Axes>"
            ],
            "image/png": "[encoded data removed]"
          },
          "metadata": {}
        }
      ]
    },
    {
      "cell_type": "code",
      "source": [],
      "metadata": {
        "id": "_5Bxq29eWrct"
      },
      "execution_count": null,
      "outputs": []
    }
  ]
}