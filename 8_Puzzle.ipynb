{
  "nbformat": 4,
  "nbformat_minor": 0,
  "metadata": {
    "colab": {
      "provenance": [],
      "authorship_tag": "ABX9TyPWVlfneuzFZCfTnUvjp5nS",
      "include_colab_link": true
    },
    "kernelspec": {
      "name": "python3",
      "display_name": "Python 3"
    },
    "language_info": {
      "name": "python"
    }
  },
  "cells": [
    {
      "cell_type": "markdown",
      "metadata": {
        "id": "view-in-github",
        "colab_type": "text"
      },
      "source": [
        "<a href=\"https://colab.research.google.com/github/shirish-baral/ai-lab/blob/main/8_Puzzle.ipynb\" target=\"_parent\"><img src=\"https://colab.research.google.com/assets/colab-badge.svg\" alt=\"Open In Colab\"/></a>"
      ]
    },
    {
      "cell_type": "markdown",
      "source": [
        "**Assignment 5: A Search for a Puzzle Solver**\n",
        "\n",
        "Objective: Solve the 8-puzzle using A* search.\n",
        "\n",
        "Problem Statement: The 8-puzzle involves sliding tiles to achieve a goal state. Use A* to solve it.\n",
        "\n",
        "Tasks:\n",
        "Define heuristic functions:\n",
        "\n",
        "-H1: Number of misplaced tiles.\n",
        "\n",
        "-H2: Sum of Manhattan distances of all tiles from their goal positions.\n",
        "\n",
        "-Implement A* with both heuristics.\n",
        "\n",
        "-Compare the performance of the two heuristics in terms of the number of nodes explored and solution depth."
      ],
      "metadata": {
        "id": "u9GQyStlhuaD"
      }
    },
    {
      "cell_type": "code",
      "execution_count": 2,
      "metadata": {
        "colab": {
          "base_uri": "https://localhost:8080/"
        },
        "id": "IsfHi4aAeSWL",
        "outputId": "c1bcca21-08c0-4631-b8f2-ad5e0155f5c5"
      },
      "outputs": [
        {
          "output_type": "stream",
          "name": "stdout",
          "text": [
            "Solution using Misplaced Tile Heuristic: ['Left', 'Up', 'Right', 'Right', 'Down', 'Left', 'Up', 'Left', 'Down', 'Right', 'Right', 'Up', 'Left', 'Left']\n",
            "Nodes explored: 361\n",
            "Solution using Manhattan Distance Heuristic: ['Left', 'Up', 'Right', 'Right', 'Down', 'Left', 'Up', 'Left', 'Down', 'Right', 'Right', 'Up', 'Left', 'Left']\n",
            "Nodes explored: 96\n"
          ]
        }
      ],
      "source": [
        "import heapq\n",
        "import numpy as np\n",
        "\n",
        "class PuzzleState:\n",
        "    def __init__(self, board, parent=None, move=\"\", g=0, h=0):\n",
        "        self.board = board\n",
        "        self.parent = parent\n",
        "        self.move = move\n",
        "        self.g = g  # Cost from start node\n",
        "        self.h = h  # Heuristic cost\n",
        "        self.f = g + h  # Total estimated cost\n",
        "\n",
        "    def __lt__(self, other):\n",
        "        return self.f < other.f\n",
        "\n",
        "    def __eq__(self, other):\n",
        "        return np.array_equal(self.board, other.board)\n",
        "\n",
        "    def get_neighbors(self):\n",
        "        neighbors = []\n",
        "        x, y = np.where(self.board == 0)\n",
        "        x, y = x[0], y[0]\n",
        "        moves = [(x-1, y, \"Up\"), (x+1, y, \"Down\"), (x, y-1, \"Left\"), (x, y+1, \"Right\")]\n",
        "\n",
        "        for nx, ny, move in moves:\n",
        "            if 0 <= nx < 3 and 0 <= ny < 3:\n",
        "                new_board = self.board.copy()\n",
        "                new_board[x, y], new_board[nx, ny] = new_board[nx, ny], new_board[x, y]\n",
        "                neighbors.append(PuzzleState(new_board, self, move, self.g + 1))\n",
        "\n",
        "        return neighbors\n",
        "\n",
        "def heuristic_misplaced(state, goal):\n",
        "    return np.sum(state.board != goal) - 1  # Ignore the blank tile\n",
        "\n",
        "def heuristic_manhattan(state, goal):\n",
        "    cost = 0\n",
        "    for num in range(1, 9):\n",
        "        x1, y1 = np.where(state.board == num)\n",
        "        x2, y2 = np.where(goal == num)\n",
        "        cost += abs(x1 - x2) + abs(y1 - y2)\n",
        "    return cost\n",
        "\n",
        "def a_star(start, goal, heuristic):\n",
        "    open_list = []\n",
        "    heapq.heappush(open_list, start)\n",
        "    closed_set = set()\n",
        "    explored_nodes = 0\n",
        "\n",
        "    while open_list:\n",
        "        current = heapq.heappop(open_list)\n",
        "        explored_nodes += 1\n",
        "\n",
        "        if np.array_equal(current.board, goal):\n",
        "            path = []\n",
        "            while current:\n",
        "                path.append(current.move)\n",
        "                current = current.parent\n",
        "            return path[::-1][1:], explored_nodes\n",
        "\n",
        "        closed_set.add(tuple(map(tuple, current.board)))\n",
        "        for neighbor in current.get_neighbors():\n",
        "            if tuple(map(tuple, neighbor.board)) in closed_set:\n",
        "                continue\n",
        "            neighbor.h = heuristic(neighbor, goal)\n",
        "            neighbor.f = neighbor.g + neighbor.h\n",
        "            heapq.heappush(open_list, neighbor)\n",
        "\n",
        "    return None, explored_nodes\n",
        "\n",
        "if __name__ == \"__main__\":\n",
        "    start_board = np.array([[1, 2, 3], [4, 0, 5], [6, 7, 8]])\n",
        "    goal_board = np.array([[0,1,2], [3,4,5], [6,7,8]])\n",
        "\n",
        "    start_state = PuzzleState(start_board, g=0, h=0)\n",
        "\n",
        "    solution_h1, nodes_h1 = a_star(start_state, goal_board, heuristic_misplaced)\n",
        "    solution_h2, nodes_h2 = a_star(start_state, goal_board, heuristic_manhattan)\n",
        "\n",
        "    print(\"Solution using Misplaced Tile Heuristic:\", solution_h1)\n",
        "    print(\"Nodes explored:\", nodes_h1)\n",
        "\n",
        "    print(\"Solution using Manhattan Distance Heuristic:\", solution_h2)\n",
        "    print(\"Nodes explored:\", nodes_h2)"
      ]
    },
    {
      "cell_type": "code",
      "source": [],
      "metadata": {
        "id": "T5SCoZPAiLn0"
      },
      "execution_count": null,
      "outputs": []
    }
  ]
}