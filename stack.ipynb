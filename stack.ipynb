{
  "nbformat": 4,
  "nbformat_minor": 0,
  "metadata": {
    "colab": {
      "provenance": [],
      "authorship_tag": "ABX9TyMdwT1IIqM5Cwqa/udsR6MA",
      "include_colab_link": true
    },
    "kernelspec": {
      "name": "python3",
      "display_name": "Python 3"
    },
    "language_info": {
      "name": "python"
    }
  },
  "cells": [
    {
      "cell_type": "markdown",
      "metadata": {
        "id": "view-in-github",
        "colab_type": "text"
      },
      "source": [
        "<a href=\"https://colab.research.google.com/github/shirish-baral/ai-lab/blob/main/lab1_2.ipynb\" target=\"_parent\"><img src=\"https://colab.research.google.com/assets/colab-badge.svg\" alt=\"Open In Colab\"/></a>"
      ]
    },
    {
      "cell_type": "code",
      "execution_count": null,
      "metadata": {
        "id": "tNvWWOPkPdyk"
      },
      "outputs": [],
      "source": [
        "'''Q2)Implement a stack and perform the operation given below\n",
        "a)initialize  b) Display c)push d)pop '''\n",
        "\n",
        "array =[]\n",
        "n =  int(input(\"Enter number of array elements:\"))\n",
        "print(\"Enter array elements\")\n",
        "for i in range (n):\n",
        "  element = int(input())\n",
        "  array.append(element)\n",
        "print(\"Array is:\",array)\n",
        "array.sort()\n",
        "print(\"Sorted array is:\",array)\n",
        "\n"
      ]
    },
    {
      "cell_type": "code",
      "source": [],
      "metadata": {
        "id": "Aity8HwCOwKZ"
      },
      "execution_count": null,
      "outputs": []
    }
  ]
}